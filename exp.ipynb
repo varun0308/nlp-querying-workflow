{
 "cells": [
  {
   "cell_type": "code",
   "execution_count": null,
   "metadata": {},
   "outputs": [],
   "source": [
    "from openai import OpenAI\n",
    "from dotenv import load_dotenv\n",
    "import os\n",
    "from google.cloud import bigquery\n",
    "\n",
    "# Load API key\n",
    "load_dotenv()\n",
    "client = OpenAI(api_key=os.getenv(\"OPENAI_API_KEY\"))\n",
    "\n",
    "# Set up BigQuery client\n",
    "os.environ[\"GOOGLE_APPLICATION_CREDENTIALS\"] = \"service-account.json\"\n",
    "bq_client = bigquery.Client()"
   ]
  },
  {
   "cell_type": "code",
   "execution_count": 31,
   "metadata": {},
   "outputs": [
    {
     "data": {
      "text/html": [
       "<div>\n",
       "<style scoped>\n",
       "    .dataframe tbody tr th:only-of-type {\n",
       "        vertical-align: middle;\n",
       "    }\n",
       "\n",
       "    .dataframe tbody tr th {\n",
       "        vertical-align: top;\n",
       "    }\n",
       "\n",
       "    .dataframe thead th {\n",
       "        text-align: right;\n",
       "    }\n",
       "</style>\n",
       "<table border=\"1\" class=\"dataframe\">\n",
       "  <thead>\n",
       "    <tr style=\"text-align: right;\">\n",
       "      <th></th>\n",
       "      <th>_id</th>\n",
       "      <th>__v</th>\n",
       "      <th>actionDate</th>\n",
       "      <th>activityId</th>\n",
       "      <th>activityType</th>\n",
       "      <th>name</th>\n",
       "      <th>scheduledEndDate</th>\n",
       "      <th>scheduledStartDate</th>\n",
       "      <th>status</th>\n",
       "      <th>createdBy__id</th>\n",
       "      <th>...</th>\n",
       "      <th>after_getting_wadi_device_how_much_water_do_you_usually_boil_for_drinking_value</th>\n",
       "      <th>do_you_know_how_to_operate_wadi_device_value</th>\n",
       "      <th>was_the_maintenance_of_device_explained_by_cic_value</th>\n",
       "      <th>how_do_you_know_that_the_water_purified_from_the_wadi_device_is_safe_to_drink_value</th>\n",
       "      <th>were_wash_campaigns_conducted_by_cic_was_benefits_of_the_program_explained_during_wc_value</th>\n",
       "      <th>are_you_aware_of_the_helpline_number_in_case_of_issues_doubts_regarding_the_wadi_device_and_bottles_value</th>\n",
       "      <th>who_collects_the_firewood_in_your_household_value</th>\n",
       "      <th>is_there_any_reduction_in_fuelwood_required_currently_as_compared_to_before_using_the_water_wadi_device_value</th>\n",
       "      <th>repetition_position</th>\n",
       "      <th>repetition__id</th>\n",
       "    </tr>\n",
       "  </thead>\n",
       "  <tbody>\n",
       "    <tr>\n",
       "      <th>0</th>\n",
       "      <td>67c83e93cb149a-3210644678</td>\n",
       "      <td>0</td>\n",
       "      <td>2025-03-04 18:30:00+00:00</td>\n",
       "      <td>67c0276efbb09d936d69e706</td>\n",
       "      <td>FARM</td>\n",
       "      <td>Monitoring</td>\n",
       "      <td>2025-03-30 18:30:00+00:00</td>\n",
       "      <td>2025-03-30 18:30:00+00:00</td>\n",
       "      <td>Overdue</td>\n",
       "      <td>66f6993df33b065659bc40c9</td>\n",
       "      <td>...</td>\n",
       "      <td>0.0</td>\n",
       "      <td>None</td>\n",
       "      <td>None</td>\n",
       "      <td></td>\n",
       "      <td>None</td>\n",
       "      <td>None</td>\n",
       "      <td></td>\n",
       "      <td>None</td>\n",
       "      <td>&lt;NA&gt;</td>\n",
       "      <td>None</td>\n",
       "    </tr>\n",
       "  </tbody>\n",
       "</table>\n",
       "<p>1 rows × 104 columns</p>\n",
       "</div>"
      ],
      "text/plain": [
       "                         _id  __v                actionDate  \\\n",
       "0  67c83e93cb149a-3210644678    0 2025-03-04 18:30:00+00:00   \n",
       "\n",
       "                 activityId activityType         name  \\\n",
       "0  67c0276efbb09d936d69e706         FARM  Monitoring    \n",
       "\n",
       "           scheduledEndDate        scheduledStartDate   status  \\\n",
       "0 2025-03-30 18:30:00+00:00 2025-03-30 18:30:00+00:00  Overdue   \n",
       "\n",
       "              createdBy__id  ...  \\\n",
       "0  66f6993df33b065659bc40c9  ...   \n",
       "\n",
       "  after_getting_wadi_device_how_much_water_do_you_usually_boil_for_drinking_value  \\\n",
       "0                                                0.0                                \n",
       "\n",
       "  do_you_know_how_to_operate_wadi_device_value  \\\n",
       "0                                         None   \n",
       "\n",
       "  was_the_maintenance_of_device_explained_by_cic_value  \\\n",
       "0                                               None     \n",
       "\n",
       "  how_do_you_know_that_the_water_purified_from_the_wadi_device_is_safe_to_drink_value  \\\n",
       "0                                                                                       \n",
       "\n",
       "  were_wash_campaigns_conducted_by_cic_was_benefits_of_the_program_explained_during_wc_value  \\\n",
       "0                                               None                                           \n",
       "\n",
       "  are_you_aware_of_the_helpline_number_in_case_of_issues_doubts_regarding_the_wadi_device_and_bottles_value  \\\n",
       "0                                               None                                                          \n",
       "\n",
       "  who_collects_the_firewood_in_your_household_value  \\\n",
       "0                                                     \n",
       "\n",
       "  is_there_any_reduction_in_fuelwood_required_currently_as_compared_to_before_using_the_water_wadi_device_value  \\\n",
       "0                                               None                                                              \n",
       "\n",
       "  repetition_position repetition__id  \n",
       "0                <NA>           None  \n",
       "\n",
       "[1 rows x 104 columns]"
      ]
     },
     "execution_count": 31,
     "metadata": {},
     "output_type": "execute_result"
    }
   ],
   "source": [
    "query = \"\"\"SELECT * FROM `dev-project-431208.cic_india_data.activities_67c0276efbb09d936d69e706_monitoring` LIMIT 5\"\"\"\n",
    "df = bq_client.query(query).to_dataframe(create_bqstorage_client=False)\n",
    "\n",
    "df[:5]"
   ]
  },
  {
   "cell_type": "code",
   "execution_count": 32,
   "metadata": {},
   "outputs": [
    {
     "data": {
      "text/plain": [
       "1"
      ]
     },
     "execution_count": 32,
     "metadata": {},
     "output_type": "execute_result"
    }
   ],
   "source": [
    "len(df)"
   ]
  },
  {
   "cell_type": "code",
   "execution_count": 33,
   "metadata": {},
   "outputs": [
    {
     "data": {
      "text/plain": [
       "[{'_id': '67c83e93cb149a-3210644678',\n",
       "  '__v': 0,\n",
       "  'actionDate': Timestamp('2025-03-04 18:30:00+0000', tz='UTC'),\n",
       "  'activityId': '67c0276efbb09d936d69e706',\n",
       "  'activityType': 'FARM',\n",
       "  'name': 'Monitoring ',\n",
       "  'scheduledEndDate': Timestamp('2025-03-30 18:30:00+0000', tz='UTC'),\n",
       "  'scheduledStartDate': Timestamp('2025-03-30 18:30:00+0000', tz='UTC'),\n",
       "  'status': 'Overdue',\n",
       "  'createdBy__id': '66f6993df33b065659bc40c9',\n",
       "  'createdBy_name': 'Sonali Shivalkar',\n",
       "  'createdBy_date': Timestamp('2025-03-05 12:07:47+0000', tz='UTC'),\n",
       "  'entity__id': '66d03f3d5fe2e1-10d06d4512',\n",
       "  'entity_name': 'Miyansingh Khumansingh dapla',\n",
       "  'entity_entityType': 'FARMER',\n",
       "  'entity_status': 'approved',\n",
       "  'entity_uniqueId_idType': 'CUSTOM',\n",
       "  'entity_uniqueId_id': 'CIC-100093',\n",
       "  'extras_year': None,\n",
       "  'extras_season': None,\n",
       "  'extras_popType': None,\n",
       "  'extras_applicationMode': 'none',\n",
       "  'extras_seedSource': None,\n",
       "  'extras_seedType': None,\n",
       "  'extras_sowingType': None,\n",
       "  'extras_seedquantityvalue': nan,\n",
       "  'extras_seedquantityunit': None,\n",
       "  'extras_numberOfPlants': None,\n",
       "  'extras_totalInputCost_value': nan,\n",
       "  'extras_totalInputCost_currency_name': None,\n",
       "  'extras_totalInputCost_currency_symbol': None,\n",
       "  'extras_totalInputCost_currency_abbreviation': None,\n",
       "  'extras_totalInputCost_currency_nameWithAbbreviation': None,\n",
       "  'extras_grade': None,\n",
       "  'extras_harvestType': None,\n",
       "  'extras_actualQuantity_value': nan,\n",
       "  'extras_actualQuantity_unit': None,\n",
       "  'extras_container_value': nan,\n",
       "  'extras_container_unit': None,\n",
       "  'extras_estimatedQuantity_value': nan,\n",
       "  'extras_estimatedQuantity_unit': None,\n",
       "  'originator__id': None,\n",
       "  'originator_name': None,\n",
       "  'originator_originatorType': None,\n",
       "  'originator_extras_cropId': None,\n",
       "  'originator_extras_cropName': None,\n",
       "  'originator_extras_variantId': None,\n",
       "  'originator_extras_variantName': None,\n",
       "  'originator_uniqueId_id': None,\n",
       "  'originator_uniqueId_idType': None,\n",
       "  'facility__id': '66d162e7cef4f81b26883186',\n",
       "  'facility_name': 'HH',\n",
       "  'facility_facilityType': 'FARM',\n",
       "  'facility_uniqueId_id': '147-03-BB-01991',\n",
       "  'facility_uniqueId_idType': 'UID',\n",
       "  'updatedBy__id': '14040426',\n",
       "  'updatedBy_name': 'Arjun Solanki',\n",
       "  'updatedBy_date': Timestamp('2025-03-07 10:39:55+0000', tz='UTC'),\n",
       "  'uniqueId_id': None,\n",
       "  'uniqueId_idType': None,\n",
       "  'association_0__id': '66cc1caeacef7640404e341c',\n",
       "  'association_0_name': 'Carbon Impact Capital Pte Ltd - India',\n",
       "  'association_0_level': 0,\n",
       "  'association_0_levelName': 'Organization',\n",
       "  'association_0_parentEntityId': None,\n",
       "  'association_0_mainEntityId': '66cc1caeacef7640404e341c',\n",
       "  'association_1__id': '66cdeba22b069c-510805d67',\n",
       "  'association_1_name': 'Madhya Pradesh',\n",
       "  'association_1_level': 1,\n",
       "  'association_1_levelName': 'State',\n",
       "  'association_1_parentEntityId': '66cc1caeacef7640404e341c',\n",
       "  'association_1_mainEntityId': '66cc1caeacef7640404e341c',\n",
       "  'association_2__id': '66cdeba22b069c-510805d6d',\n",
       "  'association_2_name': 'Bharwani',\n",
       "  'association_2_level': 2,\n",
       "  'association_2_levelName': 'District',\n",
       "  'association_2_parentEntityId': '66cdeba22b069c-510805d67',\n",
       "  'association_2_mainEntityId': '66cc1caeacef7640404e341c',\n",
       "  'association_3__id': '66cdeba22b069c-510805d7d',\n",
       "  'association_3_name': 'BP1',\n",
       "  'association_3_level': 3,\n",
       "  'association_3_levelName': 'Cluster',\n",
       "  'association_3_parentEntityId': '66cdeba22b069c-510805d6d',\n",
       "  'association_3_mainEntityId': '66cc1caeacef7640404e341c',\n",
       "  'association_4__id': '66cdeba62b069c-51080602f',\n",
       "  'association_4_name': 'Anjarada',\n",
       "  'association_4_level': 4,\n",
       "  'association_4_levelName': 'Village',\n",
       "  'association_4_parentEntityId': '66cdeba22b069c-510805d7d',\n",
       "  'association_4_mainEntityId': '66cc1caeacef7640404e341c',\n",
       "  'has_repondent_consented_for_the_interview_value': 'YES',\n",
       "  'are_the_respondent_s_willing_to_provide_water_for_testing_value': None,\n",
       "  'is_the_household_having_handwashing_facility_value': None,\n",
       "  'is_there_availability_of_water_and_soap_at_handwashing_facility_value': None,\n",
       "  'after_getting_wadi_device_how_much_water_do_you_usually_boil_for_drinking_value': 0.0,\n",
       "  'do_you_know_how_to_operate_wadi_device_value': None,\n",
       "  'was_the_maintenance_of_device_explained_by_cic_value': None,\n",
       "  'how_do_you_know_that_the_water_purified_from_the_wadi_device_is_safe_to_drink_value': '',\n",
       "  'were_wash_campaigns_conducted_by_cic_was_benefits_of_the_program_explained_during_wc_value': None,\n",
       "  'are_you_aware_of_the_helpline_number_in_case_of_issues_doubts_regarding_the_wadi_device_and_bottles_value': None,\n",
       "  'who_collects_the_firewood_in_your_household_value': '',\n",
       "  'is_there_any_reduction_in_fuelwood_required_currently_as_compared_to_before_using_the_water_wadi_device_value': None,\n",
       "  'repetition_position': None,\n",
       "  'repetition__id': None}]"
      ]
     },
     "execution_count": 33,
     "metadata": {},
     "output_type": "execute_result"
    }
   ],
   "source": [
    "df[:5].to_dict(orient=\"records\")"
   ]
  },
  {
   "cell_type": "code",
   "execution_count": null,
   "metadata": {},
   "outputs": [],
   "source": [
    "df.info()"
   ]
  },
  {
   "cell_type": "code",
   "execution_count": null,
   "metadata": {},
   "outputs": [],
   "source": [
    "str(df.nunique())[4]"
   ]
  },
  {
   "cell_type": "code",
   "execution_count": null,
   "metadata": {},
   "outputs": [],
   "source": [
    "[{'table': 'users', 'relevant_columns': \n",
    "    ['id', 'created_by_oid', 'modified_by_oid', 'creation_date', 'updated_date']}, \n",
    " {'table': 'activities_66ceb5341f5bbfed03b140ec_ds_device', 'relevant_columns': \n",
    "     ['createdBy__id', 'createdBy_date', 'updatedBy__id', 'updatedBy_date']}, \n",
    " {'table': 'activities_LAND_REGISTERED_land_registered', 'relevant_columns': \n",
    "         ['createdBy__id', 'createdBy_date', 'updatedBy__id', 'updatedBy_date']}, \n",
    " {'table': 'activities_66ceb5481f5bbfed03b14167_ds_bottles', 'relevant_columns': \n",
    "             ['createdBy__id', 'createdBy_date', 'updatedBy__id', 'updatedBy_date']}, \n",
    "         {'table': 'activities_67c0276efbb09d936d69e706_monitoring', 'relevant_columns': []}]"
   ]
  },
  {
   "cell_type": "code",
   "execution_count": null,
   "metadata": {},
   "outputs": [],
   "source": [
    "table_data = [\n",
    "    {'table': 'users', 'relevant_columns': ['id', 'created_by_oid', 'modified_by_oid', 'creation_date', 'updated_date']}, \n",
    "    {'table': 'activities_66ceb5341f5bbfed03b140ec_ds_device', 'relevant_columns': ['createdBy__id', 'createdBy_date', 'updatedBy__id', 'updatedBy_date']}, \n",
    "    {'table': 'activities_LAND_REGISTERED_land_registered', 'relevant_columns': ['createdBy__id', 'createdBy_date', 'updatedBy__id', 'updatedBy_date']}, \n",
    "    {'table': 'activities_66ceb5481f5bbfed03b14167_ds_bottles', 'relevant_columns': ['createdBy__id', 'createdBy_date', 'updatedBy__id', 'updatedBy_date']}, \n",
    "    {'table': 'activities_67c0276efbb09d936d69e706_monitoring', 'relevant_columns': ['createdBy__id', 'createdBy_date', 'updatedBy__id', 'updatedBy_date']}]"
   ]
  },
  {
   "cell_type": "code",
   "execution_count": null,
   "metadata": {},
   "outputs": [],
   "source": [
    "[{'table': 'users', 'relevant_columns': ['id', 'created_by_oid', 'modified_by_oid', 'creation_date', 'updated_date']}, \n",
    " {'table': 'activities_66ceb5341f5bbfed03b140ec_ds_device', 'relevant_columns': ['createdBy__id', 'createdBy_date', 'updatedBy__id', 'updatedBy_date']}, \n",
    " {'table': 'activities_LAND_REGISTERED_land_registered', 'relevant_columns': ['createdBy__id', 'createdBy_date', 'updatedBy__id', 'updatedBy_date']}, \n",
    " {'table': 'activities_66ceb5481f5bbfed03b14167_ds_bottles', 'relevant_columns': ['createdBy__id', 'createdBy_date', 'updatedBy__id', 'updatedBy_date']}, \n",
    " {'table': 'activities_67c0276efbb09d936d69e706_monitoring', 'relevant_columns': \n",
    "    ['createdBy__id', 'createdBy_date', 'updatedBy__id', 'updatedBy_date']}]"
   ]
  },
  {
   "cell_type": "code",
   "execution_count": null,
   "metadata": {},
   "outputs": [],
   "source": [
    "schema_docs = [open(\"table_schemas/farmers.txt\", encoding=\"utf-8\").read(), \n",
    "              open(\"table_schemas/fpo.txt\", encoding=\"utf-8\").read(),\n",
    "              open(\"table_schemas/users.txt\", encoding=\"utf-8\").read(),\n",
    "              open(\"table_schemas/activity_devices.txt\", encoding=\"utf-8\").read(),\n",
    "              open(\"table_schemas/activity_land_registered.txt\", encoding=\"utf-8\").read(),\n",
    "              open(\"table_schemas/activity_ds_bottles.txt\", encoding=\"utf-8\").read(),\n",
    "              open(\"table_schemas/activity_monitoring.txt\", encoding=\"utf-8\").read()]"
   ]
  },
  {
   "cell_type": "code",
   "execution_count": null,
   "metadata": {},
   "outputs": [],
   "source": [
    "import re"
   ]
  },
  {
   "cell_type": "code",
   "execution_count": null,
   "metadata": {},
   "outputs": [],
   "source": [
    "column_specific_doc_list = []\n",
    "# Get the relevant columns for each table from the schema docs\n",
    "for schema_doc in schema_docs:\n",
    "    # Check if this table is there in selected tables\n",
    "    table_info = schema_doc.split(\"\\n\")\n",
    "    table_name = table_info[0].split(\":\")[1].strip()\n",
    "    print(table_name)\n",
    "    if any(t['table'] == table_name for t in table_data):\n",
    "        table_description = table_info[1].strip()\n",
    "        table_column_definitions = table_info[3:]\n",
    "        \n",
    "        try:\n",
    "            table_column_definitions = {re.search(r'\\- (.*?)\\:', x).group(1): x for x in table_column_definitions}\n",
    "            \n",
    "            relevant_columns = [x for x in table_data if x['table'] == table_name][0]['relevant_columns']\n",
    "            # Use regex match to find the columns in column definitions\n",
    "            column_definitions = []\n",
    "            for column in relevant_columns:\n",
    "                for column_name, column_definition in table_column_definitions.items():\n",
    "                    if column == column_name:\n",
    "                        column_definitions.append(column_definition)\n",
    "\n",
    "            column_specific_doc_list.append({\n",
    "                'table': table_name,\n",
    "                'description': table_description,\n",
    "                'column_definitions': column_definitions\n",
    "            })    \n",
    "        except Exception as e:\n",
    "            print(e)\n",
    "\n",
    "column_specific_docs = \"\\n\".join(\n",
    "    f\"- {doc['table']} table: {doc['description']}\\n{'\\n'.join(doc['column_definitions'])}\\n\\n\" for doc in column_specific_doc_list\n",
    ")"
   ]
  },
  {
   "cell_type": "code",
   "execution_count": null,
   "metadata": {},
   "outputs": [],
   "source": [
    "print(column_specific_docs)"
   ]
  },
  {
   "cell_type": "code",
   "execution_count": null,
   "metadata": {},
   "outputs": [],
   "source": []
  }
 ],
 "metadata": {
  "kernelspec": {
   "display_name": "nlp_query",
   "language": "python",
   "name": "python3"
  },
  "language_info": {
   "codemirror_mode": {
    "name": "ipython",
    "version": 3
   },
   "file_extension": ".py",
   "mimetype": "text/x-python",
   "name": "python",
   "nbconvert_exporter": "python",
   "pygments_lexer": "ipython3",
   "version": "3.13.5"
  }
 },
 "nbformat": 4,
 "nbformat_minor": 2
}
